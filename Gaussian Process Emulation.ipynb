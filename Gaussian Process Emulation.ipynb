{
 "cells": [
  {
   "cell_type": "markdown",
   "metadata": {},
   "source": [
    "# Gaussian Process Emulation"
   ]
  },
  {
   "cell_type": "markdown",
   "metadata": {},
   "source": [
    "Gaussian process emulation has been in use since 1980s as a well-known non-parametric Bayesian method. It builds *cheap-to-run* emulators for *expensive-to-run* simulation models (referred to as simulators) so as to enable analyses requiring a large number of simulation runs.\n",
    "\n",
    "We use Gaussian Process Emulation in emulating the output of landslide run-out simulations. You can watch our presentation in [EGU 2021](https://meetingorganizer.copernicus.org/EGU21/EGU21-2453.html) here:\n"
   ]
  },
  {
   "cell_type": "code",
   "execution_count": 1,
   "metadata": {
    "tags": [
     "hide-input"
    ]
   },
   "outputs": [
    {
     "data": {
      "image/jpeg": "[encoded data removed]",
      "text/html": [
       "\n",
       "        <iframe\n",
       "            width=\"560\"\n",
       "            height=\"315\"\n",
       "            src=\"https://www.youtube.com/embed/BLdE9f5XOVM\"\n",
       "            frameborder=\"0\"\n",
       "            allowfullscreen\n",
       "            \n",
       "        ></iframe>\n",
       "        "
      ],
      "text/plain": [
       "<IPython.lib.display.YouTubeVideo at 0x20a1d381a00>"
      ]
     },
     "execution_count": 1,
     "metadata": {},
     "output_type": "execute_result"
    }
   ],
   "source": [
    "import IPython.display as display\n",
    "display.YouTubeVideo(id = 'BLdE9f5XOVM', width = 560, height = 315)"
   ]
  },
  {
   "cell_type": "markdown",
   "metadata": {},
   "source": [
    "We wil use the borehole function, which models the water flow through a borehole, to generate output data, i.e. water flow rate in m<sup>3</sup>/year.\n",
    "\n",
    "$$\n",
    "f \\left ( x \\right ) = \\frac{2\\pi T_{u}\\left ( H_{u} - H_{l} \\right )}{\\ln{\\left (r/r_w  \\right )}\\left ( 1 + \\frac{2LT_u}{\\ln{\\left (r/r_w  \\right )r_{w}^{2}K_w}}+\\frac{T_u}{T_l} \\right )}\n",
    "$$\n",
    "\n",
    "We define the equation as a function named ```borehole_flowrate```"
   ]
  },
  {
   "cell_type": "code",
   "execution_count": 2,
   "metadata": {},
   "outputs": [],
   "source": [
    "import numpy as np\n",
    "def borehole_flowrate(r_w, r, t_u, h_u, t_l, h_l, l, k_w):\n",
    "    nominator = 2 * np.pi * t_u * (h_u - h_l)\n",
    "    ln_term = np.log(r / r_w)\n",
    "    term1 = (2 * l * t_u) / (ln_term * (r_w ** 2) * k_w)\n",
    "    term2 = t_u / t_l\n",
    "    denominator = ln_term * (1 + term1 + term2)\n",
    "    result = nominator / denominator\n",
    "    return(result)   "
   ]
  },
  {
   "cell_type": "markdown",
   "metadata": {},
   "source": [
    "Input variables and ranges are taken from the [Virtual Library of Simulation Experiments](https://www.sfu.ca/~ssurjano/index.html).\n",
    "\n",
    "| Parameter | Symbol | Unit | Range |\n",
    "|----|----|----|----|\n",
    "| Radius of borehole | r<sub>w</sub> | m | 0.05 - 0.15 |\n",
    "| Radius of influence | r | m | 100 - 50000 |\n",
    "| Transmissivity of upper aquifer | T<sub>u</sub> | m<sup>2</sup>/year | 63070 - 115600 |\n",
    "| Potentiometric head of upper aquifer | H<sub>u</sub> | m | 990 - 1110 |\n",
    "| Transmissivity of lower aquifer | T<sub>l</sub> | m<sup>2</sup>/year | 63.1 - 116 |\n",
    "| Potentiometric head of lower aquifer | H<sub>l</sub> | m | 700 - 820 |\n",
    "| Length of borehole | L | m | 1120 - 1680 |\n",
    "| Hydraulic conductivity of borehole | K<sub>w</sub> | m<sup></sup>/year | 9855 - 12045 |\n",
    "\n",
    "For the sake of simplicity, we assume that all parameters are uniformly distributed within their own ranges."
   ]
  },
  {
   "cell_type": "code",
   "execution_count": 3,
   "metadata": {},
   "outputs": [],
   "source": [
    "import numpy as np\n",
    "import pandas as pd\n",
    "def borehole_input(number_of_runs):\n",
    "    radius_borehole = np.random.uniform(low = 0.05, high = 0.15, size = number_of_runs)\n",
    "    radius_influence = np.random.uniform(low = 100, high = 50000, size = number_of_runs)\n",
    "    trans_upper = np.random.uniform(low = 63070, high = 115600, size = number_of_runs)\n",
    "    pot_upper = np.random.uniform(low = 990, high = 1110, size = number_of_runs)\n",
    "    trans_lower = np.random.uniform(low = 63.1, high = 116, size = number_of_runs)\n",
    "    pot_lower = np.random.uniform(low = 700, high = 820, size = number_of_runs)\n",
    "    length_borehole = np.random.uniform(low = 1120, high = 1680, size = number_of_runs)\n",
    "    cond_borehole = np.random.uniform(low = 9855, high = 12045, size = number_of_runs)\n",
    "    data = np.stack((radius_borehole, radius_influence, trans_upper,\n",
    "              pot_upper, trans_lower, pot_lower,\n",
    "              length_borehole, cond_borehole),axis = 1)\n",
    "    return(data)\n",
    "input = borehole_input(50)"
   ]
  },
  {
   "cell_type": "markdown",
   "metadata": {},
   "source": [
    "We will have a look at the [RobustGaSP](https://cran.r-project.org/web/packages/RobustGaSP/RobustGaSP.pdf) package in R maintained by [Mengyang Gu](https://www.pstat.ucsb.edu/people/mengyang-gu) on how to perform predictions."
   ]
  },
  {
   "cell_type": "code",
   "execution_count": 4,
   "metadata": {},
   "outputs": [],
   "source": [
    "import importlib.util\n",
    "if importlib.util.find_spec('rpy2') is None:\n",
    "    %pip install rpy2 \n",
    "else:\n",
    "     import rpy2"
   ]
  },
  {
   "cell_type": "code",
   "execution_count": 5,
   "metadata": {},
   "outputs": [
    {
     "name": "stderr",
     "output_type": "stream",
     "text": [
      "R[write to console]: Loading required package: RobustGaSP\n",
      "\n",
      "R[write to console]: #########\n",
      "\n",
      "R[write to console]: ##\n",
      "## Robust Gaussian Stochastic Process, RobustGaSP Package\n",
      "\n",
      "R[write to console]: ## Copyright (C) 2016-2022 Mengyang Gu, Jesus Palomo and James O. Berger\n",
      "\n",
      "R[write to console]: #########\n",
      "\n",
      "R[write to console]: \n",
      "Attaching package: 'RobustGaSP'\n",
      "\n",
      "\n",
      "R[write to console]: The following object is masked from 'package:stats':\n",
      "\n",
      "    simulate\n",
      "\n",
      "\n"
     ]
    }
   ],
   "source": [
    "import rpy2.robjects.packages as rpackages\n",
    "base = rpackages.importr('base')\n",
    "utils = rpackages.importr('utils')\n",
    "if 'TRUE' not in str(base.require('RobustGaSP')):\n",
    "    utils.install_packages('RobustGaSP')\n",
    "else:\n",
    "    robustgasp = rpackages.importr('RobustGaSP')\n",
    "    import rpy2.robjects.numpy2ri\n",
    "    rpy2.robjects.numpy2ri.activate()"
   ]
  },
  {
   "cell_type": "code",
   "execution_count": 6,
   "metadata": {},
   "outputs": [],
   "source": [
    "output = borehole_flowrate(r_w = input[:, 0], r = input[:, 1], t_u = input[:, 2], h_u = input[:, 3],t_l = input[:, 4], h_l = input[:, 5],l = input[:, 6], k_w = input[:, 7])"
   ]
  },
  {
   "cell_type": "markdown",
   "metadata": {},
   "source": [
    "We can build a model with the input parametes as ```design``` and output as ```response```. We use the ```rgasp``` function for this."
   ]
  },
  {
   "cell_type": "code",
   "execution_count": 7,
   "metadata": {},
   "outputs": [
    {
     "name": "stdout",
     "output_type": "stream",
     "text": [
      "The upper bounds of the range parameters are Inf Inf Inf Inf Inf Inf Inf Inf \n",
      "The initial values of range parameters are 0.0009967284 0.01999988 0.01999989 0.01995113 0.01989031 0.01995054 0.01998962 0.01999717 \n",
      "Start of the optimization  1  : \n",
      "The number of iterations is  28 \n",
      " The value of the  marginal posterior  function is  -362.5445 \n",
      " Optimized range parameters are 8.916118e+125 Inf Inf Inf Inf Inf Inf Inf \n",
      " Optimized nugget parameter is 0 \n",
      " Convergence:  FALSE \n",
      "The initial values of range parameters are 0.5774646 289999.9 306920.9 707.8749 314.8866 699.3656 3335.377 12224.21 \n",
      "Start of the optimization  2  : \n",
      "The number of iterations is  55 \n",
      " The value of the  marginal posterior  function is  -149.4973 \n",
      " Optimized range parameters are 0.2128166 2.752585e+14 4.393813e+14 1074.718 83981192886 1142.008 3079.313 20540.5 \n",
      " Optimized nugget parameter is 0 \n",
      " Convergence:  FALSE \n"
     ]
    }
   ],
   "source": [
    "model = robustgasp.rgasp(design = input, response = output, lower_bound = False)"
   ]
  },
  {
   "cell_type": "markdown",
   "metadata": {},
   "source": [
    "We can perform a prediction with the ```leave_one_out_rgasp``` function:"
   ]
  },
  {
   "cell_type": "code",
   "execution_count": 8,
   "metadata": {},
   "outputs": [
    {
     "data": {
      "image/png": "[encoded data removed]",
      "text/plain": [
       "<Figure size 432x288 with 1 Axes>"
      ]
     },
     "metadata": {
      "needs_background": "light"
     },
     "output_type": "display_data"
    }
   ],
   "source": [
    "import pandas as pd\n",
    "import matplotlib.pyplot as plt\n",
    "predicted = np.array(robustgasp.leave_one_out_rgasp(model))\n",
    "plt.plot(output,predicted[0,:], 'o', color = 'black')\n",
    "plt.xlabel('Calculated flow rate')\n",
    "plt.ylabel('Predicted flow rate')\n",
    "plt.show()"
   ]
  }
 ],
 "metadata": {
  "celltoolbar": "Edit Metadata",
  "interpreter": {
   "hash": "736f379fc7f19cf58de531b2aa0c510d3b5b5f308058b6e0a719a1bb3f979931"
  },
  "kernelspec": {
   "display_name": "Python 3 (ipykernel)",
   "language": "python",
   "name": "python3"
  },
  "language_info": {
   "codemirror_mode": {
    "name": "ipython",
    "version": 3
   },
   "file_extension": ".py",
   "mimetype": "text/x-python",
   "name": "python",
   "nbconvert_exporter": "python",
   "pygments_lexer": "ipython3",
   "version": "3.9.7"
  }
 },
 "nbformat": 4,
 "nbformat_minor": 2
}
